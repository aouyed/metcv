{
 "cells": [
  {
   "cell_type": "markdown",
   "metadata": {},
   "source": [
    "I will attempt my filter for the first time. "
   ]
  },
  {
   "cell_type": "code",
   "execution_count": 82,
   "metadata": {},
   "outputs": [],
   "source": [
    "import torch\n",
    "import torch.nn as nn\n",
    "import torch.nn.functional as F\n",
    "import torch.optim as optim\n",
    "import matplotlib.pyplot as plt\n"
   ]
  },
  {
   "cell_type": "code",
   "execution_count": 83,
   "metadata": {},
   "outputs": [],
   "source": [
    "class Autoencoder(nn.Module):\n",
    "    def __init__(self):\n",
    "        super(Autoencoder, self).__init__()\n",
    "        self.encoder = nn.Sequential( # like the Composition layer you built\n",
    "            nn.Conv2d(2, 16, 3, stride=2, padding=1),\n",
    "            nn.ReLU(),\n",
    "            nn.Conv2d(16, 32, 3, stride=2, padding=1),\n",
    "            nn.ReLU(),\n",
    "            nn.Conv2d(32, 64, 7)\n",
    "        )\n",
    "        self.decoder = nn.Sequential(\n",
    "            nn.ConvTranspose2d(64, 32, 7),\n",
    "            nn.ReLU(),\n",
    "            nn.ConvTranspose2d(32, 16, 3, stride=2, padding=1, output_padding=1),\n",
    "            nn.ReLU(),\n",
    "            nn.ConvTranspose2d(16, 2, 3, stride=2, padding=1, output_padding=1),\n",
    "            nn.Sigmoid()\n",
    "        )\n",
    "\n",
    "    def forward(self, x):\n",
    "        x = self.encoder(x)\n",
    "        x = self.decoder(x)\n",
    "        return x"
   ]
  },
  {
   "cell_type": "code",
   "execution_count": 84,
   "metadata": {},
   "outputs": [
    {
     "name": "stdout",
     "output_type": "stream",
     "text": [
      "hello world\n",
      "concatenating dataframes for all dates for further analysis:\n",
      "2006-07-01 06:00:00\n",
      "2006-07-01 06:00:00\n",
      "2006-07-01 07:00:00\n",
      "2006-07-01 07:00:00\n"
     ]
    }
   ],
   "source": [
    "from viz import amv_analysis as aa\n",
    "from viz import dataframe_calculators as dfc \n",
    "import datetime\n",
    "import pickle \n",
    "import metpy\n",
    "import numpy as np\n",
    "import torch\n",
    "dict_path = '../data/interim/dictionaries/dataframes.pkl'\n",
    "dataframes_dict = pickle.load(open(dict_path, 'rb'))\n",
    "\n",
    "\n",
    "start_date=datetime.datetime(2006,7,1,6,0,0,0)\n",
    "end_date=datetime.datetime(2006,7,1,7,0,0,0)\n",
    "df0 = aa.df_concatenator(dataframes_dict, start_date, end_date, False, True)\n",
    "\n",
    "#df=df.dropna()\n",
    "df=df0.loc[end_date:end_date]\n",
    "\n",
    "lon = df.pivot('y', 'x', 'lon').values\n",
    "lat = df.pivot('y', 'x', 'lat').values\n",
    "u=df.pivot('y', 'x', 'u_scaled_approx').values\n",
    "v=df.pivot('y', 'x', 'v_scaled_approx').values\n",
    "u=np.nan_to_num(u)\n",
    "v=np.nan_to_num(v)\n",
    "\n",
    "df=df0.loc[start_date:start_date]\n",
    "u0=df.pivot('y', 'x', 'u_scaled_approx').values\n",
    "v0=df.pivot('y', 'x', 'v_scaled_approx').values\n",
    "u0=np.nan_to_num(u0)\n",
    "v0=np.nan_to_num(v0)\n",
    "\n",
    "dx, dy = metpy.calc.lat_lon_grid_deltas(lon, lat)\n",
    "dx=dx.magnitude \n",
    "mask = np.isnan(dx)\n",
    "dx[mask] = np.interp(np.flatnonzero(mask), np.flatnonzero(~mask), dx[~mask])\n",
    "\n",
    "\n",
    "dy=dy.magnitude \n",
    "mask = np.isnan(dy)\n",
    "dy[mask] = np.interp(np.flatnonzero(mask), np.flatnonzero(~mask), dy[~mask])\n",
    "\n",
    "\n",
    "mask = dx<1e-15\n",
    "dx[mask] = np.interp(np.flatnonzero(mask), np.flatnonzero(~mask), dx[~mask])\n",
    "\n",
    "mask = dy<1e-15\n",
    "dy[mask] = np.interp(np.flatnonzero(mask), np.flatnonzero(~mask), dy[~mask])\n",
    "\n",
    "dx=torch.from_numpy(dx)\n",
    "dy=torch.from_numpy(dy)"
   ]
  },
  {
   "cell_type": "code",
   "execution_count": 85,
   "metadata": {},
   "outputs": [
    {
     "name": "stdout",
     "output_type": "stream",
     "text": [
      "torch.Size([1, 2, 360, 720])\n"
     ]
    }
   ],
   "source": [
    "\n",
    "wind0=torch.rand([1,2,lon.shape[0],lon.shape[1]])\n",
    "wind=torch.rand([1,2,lon.shape[0],lon.shape[1]])\n",
    "wind0[0,0,:,:]=torch.from_numpy(u0)\n",
    "wind0[0,1,:,:]=torch.from_numpy(v0)\n",
    "wind[0,0,:,:]=torch.from_numpy(u)\n",
    "wind[0,1,:,:]=torch.from_numpy(v)\n",
    "print(wind.shape)\n",
    "dt=3600"
   ]
  },
  {
   "cell_type": "code",
   "execution_count": 86,
   "metadata": {},
   "outputs": [],
   "source": [
    "def diff_central_x(dx, f):\n",
    "    diff=torch.zeros((f.shape[0],f.shape[1]-2))\n",
    "  \n",
    "    for i,_ in enumerate(f): \n",
    "        x_diff = dx[i,1:] + dx[i,:-1]\n",
    "        f_diff = f[i,2:] - f[i,:-2]\n",
    "        diff[i,:]= f_diff/x_diff\n",
    "    difft=torch.zeros(f.shape)\n",
    "    difft[:,1:-1]=diff\n",
    "    return difft\n",
    "\n",
    "\n",
    "def diff_central_y(dy, f):\n",
    "    diff=torch.zeros((f.shape[0]-2,f.shape[1]))\n",
    "  \n",
    "    for i,_ in enumerate(f.T): \n",
    "        y_diff = dy[1:,i] + dy[:-1,i]\n",
    "        f_diff = f[2:,i] - f[:-2,i]\n",
    "        diff[:,i]= f_diff/y_diff\n",
    "    difft=torch.zeros(f.shape)\n",
    "    difft[1:-1,:]=diff\n",
    "    return difft\n",
    "\n",
    "def omega(x,y,u,v):\n",
    "    omega=diff_central_x(x,v)-diff_central_y(y,u)\n",
    "    return omega\n",
    "\n",
    "def advection(x,y,u,v,q):\n",
    "    adv=diff_central_x(x,(q*u))+diff_central_y(y,(q*v))\n",
    "    return adv\n",
    "\n",
    "\n",
    "\n",
    "def loss_physics(wind0,wind,model,dt):\n",
    "    wind_cnn=wind+model.forward(wind)\n",
    "    u=wind_cnn[:,0,:,:]\n",
    "    v=wind_cnn[:,1,:,:]\n",
    "    ug=wind[:,0,:,:]\n",
    "    vg=wind[:,1,:,:]\n",
    "    u=torch.squeeze(u)\n",
    "    v=torch.squeeze(v)\n",
    "    \n",
    "    u0=wind0[:,0,:,:]\n",
    "    v0=wind0[:,1,:,:]\n",
    "    u0=torch.squeeze(u0)\n",
    "    v0=torch.squeeze(v0)\n",
    "    vor0 = omega(dx,dy,u0,v0)\n",
    "    vor = omega(dx,dy,u,v)\n",
    "    \n",
    "    vor_adv = advection(dx,dy,u0,v0,vor0)\n",
    "    print(vor_adv.mean())\n",
    "    reg=torch.sqrt((u-ug)**2+(v-vg)**2)\n",
    "    func=vor-vor0-(vor_adv)*dt+reg\n",
    "    return abs(func.mean())"
   ]
  },
  {
   "cell_type": "code",
   "execution_count": 87,
   "metadata": {},
   "outputs": [],
   "source": [
    "def train(model, num_epochs=5, batch_size=1, learning_rate=1e-3):\n",
    "    torch.manual_seed(42)\n",
    "    criterion = nn.MSELoss() # mean square error loss\n",
    "    optimizer = torch.optim.Adam(model.parameters(),\n",
    "                                 lr=learning_rate, \n",
    "                                 weight_decay=1e-5) # <--\n",
    "\n",
    "    outputs = []\n",
    "    \n",
    "    for epoch in range(num_epochs):\n",
    "        loss = loss_physics(wind0,wind,model,dt)\n",
    "        loss.backward()\n",
    "        optimizer.step()\n",
    "        optimizer.zero_grad()\n",
    "\n",
    "        print('Epoch:{}, Loss:{:.4f}'.format(epoch+1, float(loss)))\n",
    "        #outputs.append((epoch, img, recon),)\n",
    "    #return outputs"
   ]
  },
  {
   "cell_type": "code",
   "execution_count": 88,
   "metadata": {},
   "outputs": [
    {
     "name": "stdout",
     "output_type": "stream",
     "text": [
      "tensor(5.0250e-12)\n",
      "Epoch:1, Loss:1.0253\n",
      "tensor(5.0250e-12)\n",
      "Epoch:2, Loss:0.9523\n",
      "tensor(5.0250e-12)\n",
      "Epoch:3, Loss:0.8325\n",
      "tensor(5.0250e-12)\n",
      "Epoch:4, Loss:0.7343\n",
      "tensor(5.0250e-12)\n",
      "Epoch:5, Loss:0.6578\n",
      "tensor(5.0250e-12)\n",
      "Epoch:6, Loss:0.6263\n",
      "tensor(5.0250e-12)\n",
      "Epoch:7, Loss:0.5900\n",
      "tensor(5.0250e-12)\n",
      "Epoch:8, Loss:0.5844\n",
      "tensor(5.0250e-12)\n",
      "Epoch:9, Loss:0.5819\n",
      "tensor(5.0250e-12)\n",
      "Epoch:10, Loss:0.5805\n"
     ]
    }
   ],
   "source": [
    "model = Autoencoder()\n",
    "max_epochs = 10\n",
    "outputs = train(model, num_epochs=max_epochs)"
   ]
  },
  {
   "cell_type": "code",
   "execution_count": 89,
   "metadata": {},
   "outputs": [
    {
     "data": {
      "text/plain": [
       "tensor([[[[4.2498e-01, 3.9790e-01, 2.8350e-01,  ..., 4.4009e-01,\n",
       "           3.7090e-01, 4.5737e-01],\n",
       "          [2.8784e-01, 3.6262e-01, 2.1448e-01,  ..., 5.6864e-01,\n",
       "           3.3247e-01, 4.7843e-01],\n",
       "          [3.3643e-01, 3.0184e-01, 1.8331e-01,  ..., 4.3169e-01,\n",
       "           3.4845e-01, 4.9109e-01],\n",
       "          ...,\n",
       "          [1.7107e-01, 1.4779e-02, 1.1098e-01,  ..., 2.2301e-01,\n",
       "           4.2695e-01, 3.1059e-01],\n",
       "          [3.7019e-01, 4.2646e-01, 5.2093e-02,  ..., 5.9807e-01,\n",
       "           2.0361e-01, 5.5275e-01],\n",
       "          [4.4709e-01, 1.7522e-01, 1.5941e-01,  ..., 2.5414e-01,\n",
       "           3.7213e-01, 5.4528e-01]],\n",
       "\n",
       "         [[4.7283e-01, 4.5406e-01, 4.3002e-01,  ..., 4.7897e-01,\n",
       "           4.0839e-01, 4.8283e-01],\n",
       "          [4.0792e-01, 1.2313e-01, 5.4220e-01,  ..., 1.6317e-01,\n",
       "           4.4263e-01, 3.3837e-01],\n",
       "          [4.3434e-01, 3.8571e-01, 2.3727e-01,  ..., 3.6027e-01,\n",
       "           3.8962e-01, 5.0020e-01],\n",
       "          ...,\n",
       "          [3.4260e-01, 3.6782e-04, 4.5531e-02,  ..., 3.1958e-03,\n",
       "           1.8873e-01, 1.6869e-01],\n",
       "          [4.3809e-01, 1.0601e-01, 1.7686e-01,  ..., 3.6122e-01,\n",
       "           3.4290e-01, 5.3031e-01],\n",
       "          [4.5795e-01, 4.0425e-02, 3.9235e-01,  ..., 7.9460e-02,\n",
       "           6.3121e-01, 4.8291e-01]]]], grad_fn=<SigmoidBackward>)"
      ]
     },
     "execution_count": 89,
     "metadata": {},
     "output_type": "execute_result"
    }
   ],
   "source": [
    "model.forward(wind)"
   ]
  },
  {
   "cell_type": "code",
   "execution_count": null,
   "metadata": {},
   "outputs": [],
   "source": []
  }
 ],
 "metadata": {
  "kernelspec": {
   "display_name": "Python 3",
   "language": "python",
   "name": "python3"
  },
  "language_info": {
   "codemirror_mode": {
    "name": "ipython",
    "version": 3
   },
   "file_extension": ".py",
   "mimetype": "text/x-python",
   "name": "python",
   "nbconvert_exporter": "python",
   "pygments_lexer": "ipython3",
   "version": "3.7.3"
  }
 },
 "nbformat": 4,
 "nbformat_minor": 2
}
